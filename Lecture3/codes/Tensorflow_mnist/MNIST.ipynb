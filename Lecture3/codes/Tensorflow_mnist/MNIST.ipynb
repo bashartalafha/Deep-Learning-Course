{
 "cells": [
  {
   "cell_type": "code",
   "execution_count": 1,
   "metadata": {},
   "outputs": [],
   "source": [
    "import tensorflow as tf\n",
    "import matplotlib.pyplot as plt\n",
    "from tensorflow.examples.tutorials.mnist import input_data"
   ]
  },
  {
   "cell_type": "code",
   "execution_count": 2,
   "metadata": {},
   "outputs": [
    {
     "name": "stdout",
     "output_type": "stream",
     "text": [
      "Extracting ./data/mnist/train-images-idx3-ubyte.gz\n",
      "Extracting ./data/mnist/train-labels-idx1-ubyte.gz\n",
      "Extracting ./data/mnist/t10k-images-idx3-ubyte.gz\n",
      "Extracting ./data/mnist/t10k-labels-idx1-ubyte.gz\n"
     ]
    }
   ],
   "source": [
    "mnist = input_data.read_data_sets(\"./data/mnist\", one_hot=True, validation_size=0)"
   ]
  },
  {
   "cell_type": "code",
   "execution_count": 3,
   "metadata": {},
   "outputs": [
    {
     "name": "stdout",
     "output_type": "stream",
     "text": [
      "train data shape: (60000, 784)\n",
      "test data shape: (10000, 784)\n",
      "Example of label: [ 1.  0.  0.  0.  0.  0.  0.  0.  0.  0.]\n"
     ]
    },
    {
     "data": {
      "image/png": "[encoded data removed]",
      "text/plain": [
       "<matplotlib.figure.Figure at 0x7fd034a13a58>"
      ]
     },
     "metadata": {},
     "output_type": "display_data"
    }
   ],
   "source": [
    "# Plot the first image\n",
    "print(\"train data shape:\",mnist.train.images.shape)\n",
    "print(\"test data shape:\",mnist.test.images.shape)\n",
    "#print(\"Example of image:\",mnist.train.images[1])\n",
    "print(\"Example of label:\",mnist.train.labels[1])\n",
    "\n",
    "image = mnist.train.images[25]\n",
    "image = image*255\n",
    "pixels = image.reshape((28, 28))\n",
    "plt.imshow(pixels, cmap='gray')\n",
    "plt.show()"
   ]
  },
  {
   "cell_type": "code",
   "execution_count": 4,
   "metadata": {},
   "outputs": [],
   "source": [
    "learning_rate = 0.06\n",
    "epochs = 25\n",
    "batch_size = 100\n",
    "tf.set_random_seed(1)"
   ]
  },
  {
   "cell_type": "code",
   "execution_count": 5,
   "metadata": {},
   "outputs": [],
   "source": [
    "# Input \n",
    "x = tf.placeholder(\"float\", [None, 784],name=\"Pixles\")\n",
    "y = tf.placeholder(\"float\", [None, 10],name=\"TrueLabels\")"
   ]
  },
  {
   "cell_type": "markdown",
   "metadata": {},
   "source": [
    "<h1>Softmax </h1><img src=\"https://jamesmccaffrey.files.wordpress.com/2016/03/softmaxequation.jpg\" />"
   ]
  },
  {
   "cell_type": "code",
   "execution_count": null,
   "metadata": {},
   "outputs": [],
   "source": [
    "# Simple NN without any hidden layer (accuracy = 91.3)\n",
    "with tf.name_scope(\"simple_NN\") as scope:\n",
    "    W = tf.Variable(initial_value=tf.random_normal([784,10],stddev=0.05 )  ,name=\"W\" )\n",
    "    B = tf.Variable(initial_value=tf.zeros([10]), name=\"B\")\n",
    "    y_pred = tf.nn.softmax(tf.matmul(x, W) + B)\n",
    "    "
   ]
  },
  {
   "cell_type": "code",
   "execution_count": 6,
   "metadata": {},
   "outputs": [],
   "source": [
    "# Simple NN without one hidden layer (accuracy = 94.04)\n",
    "\n",
    "with tf.name_scope(\"Hidden_Layer1\") as scope:\n",
    "    W1 = tf.Variable(initial_value=tf.random_normal([784,300],stddev=0.008) ,name=\"W1\" )\n",
    "    B1 = tf.Variable(initial_value=tf.zeros([300]),name=\"B1\")\n",
    "    Y1 = tf.nn.relu(tf.matmul(x, W1) + B1)\n",
    "\n",
    "with tf.name_scope(\"Output_Layer\") as scope:\n",
    "    W2=tf.Variable(initial_value=tf.random_normal([300,10],stddev=0.05 )  ,name=\"W2\" )\n",
    "    B2 = tf.Variable(initial_value=tf.zeros([10]), name=\"B2\")\n",
    "    y_pred = tf.nn.softmax(tf.matmul(Y1, W2) + B2)"
   ]
  },
  {
   "cell_type": "code",
   "execution_count": 7,
   "metadata": {},
   "outputs": [],
   "source": [
    "with tf.name_scope(\"Cost\") as scope:\n",
    "    cost_function = tf.reduce_mean(tf.nn.softmax_cross_entropy_with_logits(logits=y_pred, labels=y))\n",
    "    tf.summary.scalar(\"cost_function\", cost_function)"
   ]
  },
  {
   "cell_type": "code",
   "execution_count": 8,
   "metadata": {},
   "outputs": [],
   "source": [
    "with tf.name_scope(\"optimizer_GD\") as scope:\n",
    "    optimizer = tf.train.GradientDescentOptimizer(learning_rate).minimize(cost_function)"
   ]
  },
  {
   "cell_type": "code",
   "execution_count": 9,
   "metadata": {},
   "outputs": [],
   "source": [
    "init = tf.global_variables_initializer()"
   ]
  },
  {
   "cell_type": "code",
   "execution_count": 10,
   "metadata": {
    "scrolled": true
   },
   "outputs": [
    {
     "name": "stdout",
     "output_type": "stream",
     "text": [
      "Iteration: 01 cost= 1202.084699154\n",
      "Iteration: 02 cost= 1015.987375021\n",
      "Iteration: 03 cost= 994.385144353\n",
      "Iteration: 04 cost= 986.340995431\n",
      "Iteration: 05 cost= 981.706268072\n",
      "Iteration: 06 cost= 978.591709971\n",
      "Iteration: 07 cost= 975.199118257\n",
      "Iteration: 08 cost= 950.837206125\n",
      "Iteration: 09 cost= 940.970649481\n",
      "Iteration: 10 cost= 936.671680570\n",
      "Iteration: 11 cost= 933.781119585\n",
      "Iteration: 12 cost= 931.491567612\n",
      "Iteration: 13 cost= 929.619370461\n",
      "Iteration: 14 cost= 927.889273405\n",
      "Iteration: 15 cost= 926.418087244\n",
      "Iteration: 16 cost= 925.053984880\n",
      "Iteration: 17 cost= 923.783489108\n",
      "Iteration: 18 cost= 922.616057038\n",
      "Iteration: 19 cost= 921.554566145\n",
      "Iteration: 20 cost= 920.534849882\n",
      "Iteration: 21 cost= 919.608851194\n",
      "Iteration: 22 cost= 918.752946138\n",
      "Iteration: 23 cost= 917.881106377\n",
      "Iteration: 24 cost= 917.054684043\n",
      "Iteration: 25 cost= 916.313510537\n",
      "Tuning Completed!\n",
      "Test Accuracy:  0.9405\n",
      "Train Accuracy:  0.9426\n"
     ]
    }
   ],
   "source": [
    "# Launch graph \n",
    "with tf.Session() as sess:\n",
    "    sess.run(init)\n",
    "    \n",
    "    for iteration in range(epochs):\n",
    "        avg_cost = 0.\n",
    "        total_batch = int(mnist.train.num_examples/batch_size)\n",
    "        for i in range(total_batch):\n",
    "            batch_xs, batch_ys = mnist.train.next_batch(batch_size)\n",
    "            _, cost = sess.run([optimizer, cost_function], feed_dict={x: batch_xs, y: batch_ys})\n",
    "            \n",
    "            avg_cost += cost\n",
    "            \n",
    "            \n",
    "        print(\"Iteration:\", '%02d' % (iteration + 1), \"cost=\", \"{:.9f}\".format(avg_cost))\n",
    "\n",
    "    print(\"Tuning Completed!\")\n",
    "\n",
    "    predictions = tf.equal(tf.argmax(y_pred, 1), tf.argmax(y, 1))\n",
    "    accuracy = tf.reduce_mean(tf.cast(predictions, \"float\"))\n",
    "   \n",
    "    \n",
    "    print(\"Test Accuracy: \", accuracy.eval({x: mnist.test.images, y: mnist.test.labels}))\n",
    "    print(\"Train Accuracy: \", accuracy.eval({x: mnist.train.images, y: mnist.train.labels}))"
   ]
  },
  {
   "cell_type": "code",
   "execution_count": null,
   "metadata": {},
   "outputs": [],
   "source": []
  },
  {
   "cell_type": "code",
   "execution_count": null,
   "metadata": {},
   "outputs": [],
   "source": []
  }
 ],
 "metadata": {
  "kernelspec": {
   "display_name": "Python 3",
   "language": "python",
   "name": "python3"
  },
  "language_info": {
   "codemirror_mode": {
    "name": "ipython",
    "version": 3
   },
   "file_extension": ".py",
   "mimetype": "text/x-python",
   "name": "python",
   "nbconvert_exporter": "python",
   "pygments_lexer": "ipython3",
   "version": "3.5.2"
  }
 },
 "nbformat": 4,
 "nbformat_minor": 2
}
